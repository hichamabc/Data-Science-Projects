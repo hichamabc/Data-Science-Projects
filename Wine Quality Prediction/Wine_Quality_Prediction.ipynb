{
 "cells": [
  {
   "cell_type": "code",
   "execution_count": 1,
   "metadata": {},
   "outputs": [],
   "source": [
    "import pandas as pd \n",
    "import numpy as np \n",
    "import matplotlib.pyplot as plt \n",
    "import seaborn as sns "
   ]
  },
  {
   "cell_type": "code",
   "execution_count": 2,
   "metadata": {},
   "outputs": [],
   "source": [
    "data=pd.read_csv('winequalityN.csv')"
   ]
  },
  {
   "cell_type": "code",
   "execution_count": 3,
   "metadata": {},
   "outputs": [
    {
     "data": {
      "text/html": [
       "<div>\n",
       "<style scoped>\n",
       "    .dataframe tbody tr th:only-of-type {\n",
       "        vertical-align: middle;\n",
       "    }\n",
       "\n",
       "    .dataframe tbody tr th {\n",
       "        vertical-align: top;\n",
       "    }\n",
       "\n",
       "    .dataframe thead th {\n",
       "        text-align: right;\n",
       "    }\n",
       "</style>\n",
       "<table border=\"1\" class=\"dataframe\">\n",
       "  <thead>\n",
       "    <tr style=\"text-align: right;\">\n",
       "      <th></th>\n",
       "      <th>type</th>\n",
       "      <th>fixed acidity</th>\n",
       "      <th>volatile acidity</th>\n",
       "      <th>citric acid</th>\n",
       "      <th>residual sugar</th>\n",
       "      <th>chlorides</th>\n",
       "      <th>free sulfur dioxide</th>\n",
       "      <th>total sulfur dioxide</th>\n",
       "      <th>density</th>\n",
       "      <th>pH</th>\n",
       "      <th>sulphates</th>\n",
       "      <th>alcohol</th>\n",
       "      <th>quality</th>\n",
       "    </tr>\n",
       "  </thead>\n",
       "  <tbody>\n",
       "    <tr>\n",
       "      <td>0</td>\n",
       "      <td>white</td>\n",
       "      <td>7.0</td>\n",
       "      <td>0.27</td>\n",
       "      <td>0.36</td>\n",
       "      <td>20.7</td>\n",
       "      <td>0.045</td>\n",
       "      <td>45.0</td>\n",
       "      <td>170.0</td>\n",
       "      <td>1.0010</td>\n",
       "      <td>3.00</td>\n",
       "      <td>0.45</td>\n",
       "      <td>8.8</td>\n",
       "      <td>6</td>\n",
       "    </tr>\n",
       "    <tr>\n",
       "      <td>1</td>\n",
       "      <td>white</td>\n",
       "      <td>6.3</td>\n",
       "      <td>0.30</td>\n",
       "      <td>0.34</td>\n",
       "      <td>1.6</td>\n",
       "      <td>0.049</td>\n",
       "      <td>14.0</td>\n",
       "      <td>132.0</td>\n",
       "      <td>0.9940</td>\n",
       "      <td>3.30</td>\n",
       "      <td>0.49</td>\n",
       "      <td>9.5</td>\n",
       "      <td>6</td>\n",
       "    </tr>\n",
       "    <tr>\n",
       "      <td>2</td>\n",
       "      <td>white</td>\n",
       "      <td>8.1</td>\n",
       "      <td>0.28</td>\n",
       "      <td>0.40</td>\n",
       "      <td>6.9</td>\n",
       "      <td>0.050</td>\n",
       "      <td>30.0</td>\n",
       "      <td>97.0</td>\n",
       "      <td>0.9951</td>\n",
       "      <td>3.26</td>\n",
       "      <td>0.44</td>\n",
       "      <td>10.1</td>\n",
       "      <td>6</td>\n",
       "    </tr>\n",
       "    <tr>\n",
       "      <td>3</td>\n",
       "      <td>white</td>\n",
       "      <td>7.2</td>\n",
       "      <td>0.23</td>\n",
       "      <td>0.32</td>\n",
       "      <td>8.5</td>\n",
       "      <td>0.058</td>\n",
       "      <td>47.0</td>\n",
       "      <td>186.0</td>\n",
       "      <td>0.9956</td>\n",
       "      <td>3.19</td>\n",
       "      <td>0.40</td>\n",
       "      <td>9.9</td>\n",
       "      <td>6</td>\n",
       "    </tr>\n",
       "    <tr>\n",
       "      <td>4</td>\n",
       "      <td>white</td>\n",
       "      <td>7.2</td>\n",
       "      <td>0.23</td>\n",
       "      <td>0.32</td>\n",
       "      <td>8.5</td>\n",
       "      <td>0.058</td>\n",
       "      <td>47.0</td>\n",
       "      <td>186.0</td>\n",
       "      <td>0.9956</td>\n",
       "      <td>3.19</td>\n",
       "      <td>0.40</td>\n",
       "      <td>9.9</td>\n",
       "      <td>6</td>\n",
       "    </tr>\n",
       "  </tbody>\n",
       "</table>\n",
       "</div>"
      ],
      "text/plain": [
       "    type  fixed acidity  volatile acidity  citric acid  residual sugar  \\\n",
       "0  white            7.0              0.27         0.36            20.7   \n",
       "1  white            6.3              0.30         0.34             1.6   \n",
       "2  white            8.1              0.28         0.40             6.9   \n",
       "3  white            7.2              0.23         0.32             8.5   \n",
       "4  white            7.2              0.23         0.32             8.5   \n",
       "\n",
       "   chlorides  free sulfur dioxide  total sulfur dioxide  density    pH  \\\n",
       "0      0.045                 45.0                 170.0   1.0010  3.00   \n",
       "1      0.049                 14.0                 132.0   0.9940  3.30   \n",
       "2      0.050                 30.0                  97.0   0.9951  3.26   \n",
       "3      0.058                 47.0                 186.0   0.9956  3.19   \n",
       "4      0.058                 47.0                 186.0   0.9956  3.19   \n",
       "\n",
       "   sulphates  alcohol  quality  \n",
       "0       0.45      8.8        6  \n",
       "1       0.49      9.5        6  \n",
       "2       0.44     10.1        6  \n",
       "3       0.40      9.9        6  \n",
       "4       0.40      9.9        6  "
      ]
     },
     "execution_count": 3,
     "metadata": {},
     "output_type": "execute_result"
    }
   ],
   "source": [
    "data.head()"
   ]
  },
  {
   "cell_type": "markdown",
   "metadata": {},
   "source": [
    "# Exploratory data analysis"
   ]
  },
  {
   "cell_type": "markdown",
   "metadata": {},
   "source": [
    "## Count Type"
   ]
  },
  {
   "cell_type": "code",
   "execution_count": 4,
   "metadata": {},
   "outputs": [
    {
     "data": {
      "text/plain": [
       "<matplotlib.axes._subplots.AxesSubplot at 0x1cfc2ffeec8>"
      ]
     },
     "execution_count": 4,
     "metadata": {},
     "output_type": "execute_result"
    },
    {
     "data": {
      "image/png": "[encoded data removed]",
      "text/plain": [
       "<Figure size 432x288 with 1 Axes>"
      ]
     },
     "metadata": {
      "needs_background": "light"
     },
     "output_type": "display_data"
    }
   ],
   "source": [
    "sns.countplot(x='type',data=data)"
   ]
  },
  {
   "cell_type": "code",
   "execution_count": 4,
   "metadata": {},
   "outputs": [
    {
     "data": {
      "image/png": "[encoded data removed]",
      "text/plain": [
       "<Figure size 432x288 with 1 Axes>"
      ]
     },
     "metadata": {},
     "output_type": "display_data"
    }
   ],
   "source": [
    "#Data_Manipulation\n",
    "df1=data.loc[:,['quality','type']]\n",
    "df1_3=df1[df1['quality']==3]\n",
    "df1_3.groupby('type').count()\n",
    "df=pd.DataFrame([])\n",
    "for i in np.sort(df1['quality'].unique()):\n",
    "    c=df1[df1['quality']==i]\n",
    "    c=c.groupby('type').count()\n",
    "    df=pd.concat([df,c],sort=True,axis=1)\n",
    "\n",
    "df.columns=[3,4,5,6,7,8,9]\n",
    "df=df.fillna(0)\n",
    "df=df.transpose()\n",
    "#Data_Visualization\n",
    "plt.style.use('fivethirtyeight')\n",
    "indexes=np.arange(3,10)\n",
    "width=0.25\n",
    "plt.bar(indexes-(width/2),df['red'],width=width,color='r',label='Red')\n",
    "plt.bar(indexes+(width/2),df['white'],width=width,color='k',label='White')\n",
    "plt.legend()\n",
    "plt.title('Occurence of quality by type of the wine')\n",
    "plt.xlabel('Quality')\n",
    "plt.ylabel('Count')\n",
    "plt.tight_layout()\n",
    "\n"
   ]
  },
  {
   "cell_type": "code",
   "execution_count": 5,
   "metadata": {},
   "outputs": [
    {
     "data": {
      "text/html": [
       "<div>\n",
       "<style scoped>\n",
       "    .dataframe tbody tr th:only-of-type {\n",
       "        vertical-align: middle;\n",
       "    }\n",
       "\n",
       "    .dataframe tbody tr th {\n",
       "        vertical-align: top;\n",
       "    }\n",
       "\n",
       "    .dataframe thead th {\n",
       "        text-align: right;\n",
       "    }\n",
       "</style>\n",
       "<table border=\"1\" class=\"dataframe\">\n",
       "  <thead>\n",
       "    <tr style=\"text-align: right;\">\n",
       "      <th></th>\n",
       "      <th>fixed acidity</th>\n",
       "      <th>volatile acidity</th>\n",
       "      <th>citric acid</th>\n",
       "      <th>residual sugar</th>\n",
       "      <th>chlorides</th>\n",
       "      <th>free sulfur dioxide</th>\n",
       "      <th>total sulfur dioxide</th>\n",
       "      <th>density</th>\n",
       "      <th>pH</th>\n",
       "      <th>sulphates</th>\n",
       "      <th>alcohol</th>\n",
       "    </tr>\n",
       "    <tr>\n",
       "      <th>quality</th>\n",
       "      <th></th>\n",
       "      <th></th>\n",
       "      <th></th>\n",
       "      <th></th>\n",
       "      <th></th>\n",
       "      <th></th>\n",
       "      <th></th>\n",
       "      <th></th>\n",
       "      <th></th>\n",
       "      <th></th>\n",
       "      <th></th>\n",
       "    </tr>\n",
       "  </thead>\n",
       "  <tbody>\n",
       "    <tr>\n",
       "      <td>3</td>\n",
       "      <td>7.853333</td>\n",
       "      <td>0.517000</td>\n",
       "      <td>0.281000</td>\n",
       "      <td>5.140000</td>\n",
       "      <td>0.077033</td>\n",
       "      <td>39.216667</td>\n",
       "      <td>122.033333</td>\n",
       "      <td>0.995744</td>\n",
       "      <td>3.257667</td>\n",
       "      <td>0.506333</td>\n",
       "      <td>10.215000</td>\n",
       "    </tr>\n",
       "    <tr>\n",
       "      <td>4</td>\n",
       "      <td>7.288889</td>\n",
       "      <td>0.457963</td>\n",
       "      <td>0.272315</td>\n",
       "      <td>4.153704</td>\n",
       "      <td>0.060158</td>\n",
       "      <td>20.636574</td>\n",
       "      <td>103.432870</td>\n",
       "      <td>0.994833</td>\n",
       "      <td>3.231620</td>\n",
       "      <td>0.504884</td>\n",
       "      <td>10.180093</td>\n",
       "    </tr>\n",
       "    <tr>\n",
       "      <td>5</td>\n",
       "      <td>7.329348</td>\n",
       "      <td>0.389768</td>\n",
       "      <td>0.307721</td>\n",
       "      <td>5.804116</td>\n",
       "      <td>0.064666</td>\n",
       "      <td>30.237371</td>\n",
       "      <td>120.839102</td>\n",
       "      <td>0.995849</td>\n",
       "      <td>3.212042</td>\n",
       "      <td>0.526416</td>\n",
       "      <td>9.837783</td>\n",
       "    </tr>\n",
       "    <tr>\n",
       "      <td>6</td>\n",
       "      <td>7.178037</td>\n",
       "      <td>0.313731</td>\n",
       "      <td>0.323786</td>\n",
       "      <td>5.551182</td>\n",
       "      <td>0.054168</td>\n",
       "      <td>31.165021</td>\n",
       "      <td>115.410790</td>\n",
       "      <td>0.994558</td>\n",
       "      <td>3.217701</td>\n",
       "      <td>0.532466</td>\n",
       "      <td>10.587553</td>\n",
       "    </tr>\n",
       "    <tr>\n",
       "      <td>7</td>\n",
       "      <td>7.128962</td>\n",
       "      <td>0.288895</td>\n",
       "      <td>0.334764</td>\n",
       "      <td>4.733952</td>\n",
       "      <td>0.045272</td>\n",
       "      <td>30.422150</td>\n",
       "      <td>108.498610</td>\n",
       "      <td>0.993126</td>\n",
       "      <td>3.227790</td>\n",
       "      <td>0.547025</td>\n",
       "      <td>11.386006</td>\n",
       "    </tr>\n",
       "    <tr>\n",
       "      <td>8</td>\n",
       "      <td>6.838542</td>\n",
       "      <td>0.291010</td>\n",
       "      <td>0.332539</td>\n",
       "      <td>5.382902</td>\n",
       "      <td>0.041124</td>\n",
       "      <td>34.533679</td>\n",
       "      <td>117.518135</td>\n",
       "      <td>0.992514</td>\n",
       "      <td>3.223212</td>\n",
       "      <td>0.512487</td>\n",
       "      <td>11.678756</td>\n",
       "    </tr>\n",
       "    <tr>\n",
       "      <td>9</td>\n",
       "      <td>7.420000</td>\n",
       "      <td>0.298000</td>\n",
       "      <td>0.386000</td>\n",
       "      <td>4.120000</td>\n",
       "      <td>0.027400</td>\n",
       "      <td>33.400000</td>\n",
       "      <td>116.000000</td>\n",
       "      <td>0.991460</td>\n",
       "      <td>3.308000</td>\n",
       "      <td>0.466000</td>\n",
       "      <td>12.180000</td>\n",
       "    </tr>\n",
       "  </tbody>\n",
       "</table>\n",
       "</div>"
      ],
      "text/plain": [
       "         fixed acidity  volatile acidity  citric acid  residual sugar  \\\n",
       "quality                                                                 \n",
       "3             7.853333          0.517000     0.281000        5.140000   \n",
       "4             7.288889          0.457963     0.272315        4.153704   \n",
       "5             7.329348          0.389768     0.307721        5.804116   \n",
       "6             7.178037          0.313731     0.323786        5.551182   \n",
       "7             7.128962          0.288895     0.334764        4.733952   \n",
       "8             6.838542          0.291010     0.332539        5.382902   \n",
       "9             7.420000          0.298000     0.386000        4.120000   \n",
       "\n",
       "         chlorides  free sulfur dioxide  total sulfur dioxide   density  \\\n",
       "quality                                                                   \n",
       "3         0.077033            39.216667            122.033333  0.995744   \n",
       "4         0.060158            20.636574            103.432870  0.994833   \n",
       "5         0.064666            30.237371            120.839102  0.995849   \n",
       "6         0.054168            31.165021            115.410790  0.994558   \n",
       "7         0.045272            30.422150            108.498610  0.993126   \n",
       "8         0.041124            34.533679            117.518135  0.992514   \n",
       "9         0.027400            33.400000            116.000000  0.991460   \n",
       "\n",
       "               pH  sulphates    alcohol  \n",
       "quality                                  \n",
       "3        3.257667   0.506333  10.215000  \n",
       "4        3.231620   0.504884  10.180093  \n",
       "5        3.212042   0.526416   9.837783  \n",
       "6        3.217701   0.532466  10.587553  \n",
       "7        3.227790   0.547025  11.386006  \n",
       "8        3.223212   0.512487  11.678756  \n",
       "9        3.308000   0.466000  12.180000  "
      ]
     },
     "execution_count": 5,
     "metadata": {},
     "output_type": "execute_result"
    }
   ],
   "source": [
    "df1=data.drop('type',axis=1)\n",
    "df11=df1.groupby('quality').mean()\n",
    "df12=df1.groupby('quality').std()\n",
    "df11\n"
   ]
  },
  {
   "cell_type": "code",
   "execution_count": 10,
   "metadata": {},
   "outputs": [
    {
     "data": {
      "text/html": [
       "<div>\n",
       "<style scoped>\n",
       "    .dataframe tbody tr th:only-of-type {\n",
       "        vertical-align: middle;\n",
       "    }\n",
       "\n",
       "    .dataframe tbody tr th {\n",
       "        vertical-align: top;\n",
       "    }\n",
       "\n",
       "    .dataframe thead th {\n",
       "        text-align: right;\n",
       "    }\n",
       "</style>\n",
       "<table border=\"1\" class=\"dataframe\">\n",
       "  <thead>\n",
       "    <tr style=\"text-align: right;\">\n",
       "      <th></th>\n",
       "      <th>fixed acidity</th>\n",
       "      <th>volatile acidity</th>\n",
       "      <th>citric acid</th>\n",
       "      <th>residual sugar</th>\n",
       "      <th>chlorides</th>\n",
       "      <th>free sulfur dioxide</th>\n",
       "      <th>total sulfur dioxide</th>\n",
       "      <th>density</th>\n",
       "      <th>pH</th>\n",
       "      <th>sulphates</th>\n",
       "      <th>alcohol</th>\n",
       "    </tr>\n",
       "    <tr>\n",
       "      <th>quality</th>\n",
       "      <th></th>\n",
       "      <th></th>\n",
       "      <th></th>\n",
       "      <th></th>\n",
       "      <th></th>\n",
       "      <th></th>\n",
       "      <th></th>\n",
       "      <th></th>\n",
       "      <th></th>\n",
       "      <th></th>\n",
       "      <th></th>\n",
       "    </tr>\n",
       "  </thead>\n",
       "  <tbody>\n",
       "    <tr>\n",
       "      <td>3</td>\n",
       "      <td>1.747853</td>\n",
       "      <td>0.341913</td>\n",
       "      <td>0.173510</td>\n",
       "      <td>4.730721</td>\n",
       "      <td>0.062014</td>\n",
       "      <td>59.990327</td>\n",
       "      <td>112.141762</td>\n",
       "      <td>0.002833</td>\n",
       "      <td>0.213246</td>\n",
       "      <td>0.126994</td>\n",
       "      <td>1.106497</td>\n",
       "    </tr>\n",
       "    <tr>\n",
       "      <td>4</td>\n",
       "      <td>1.264825</td>\n",
       "      <td>0.229311</td>\n",
       "      <td>0.182079</td>\n",
       "      <td>3.812136</td>\n",
       "      <td>0.047153</td>\n",
       "      <td>18.865524</td>\n",
       "      <td>61.282714</td>\n",
       "      <td>0.002475</td>\n",
       "      <td>0.188390</td>\n",
       "      <td>0.164433</td>\n",
       "      <td>0.985923</td>\n",
       "    </tr>\n",
       "    <tr>\n",
       "      <td>5</td>\n",
       "      <td>1.259910</td>\n",
       "      <td>0.178591</td>\n",
       "      <td>0.160466</td>\n",
       "      <td>4.994311</td>\n",
       "      <td>0.042007</td>\n",
       "      <td>18.565479</td>\n",
       "      <td>60.782859</td>\n",
       "      <td>0.002439</td>\n",
       "      <td>0.157221</td>\n",
       "      <td>0.141680</td>\n",
       "      <td>0.814416</td>\n",
       "    </tr>\n",
       "    <tr>\n",
       "      <td>6</td>\n",
       "      <td>1.291691</td>\n",
       "      <td>0.147025</td>\n",
       "      <td>0.142341</td>\n",
       "      <td>4.888507</td>\n",
       "      <td>0.030844</td>\n",
       "      <td>16.835507</td>\n",
       "      <td>55.454390</td>\n",
       "      <td>0.003035</td>\n",
       "      <td>0.161038</td>\n",
       "      <td>0.146730</td>\n",
       "      <td>1.126491</td>\n",
       "    </tr>\n",
       "    <tr>\n",
       "      <td>7</td>\n",
       "      <td>1.372141</td>\n",
       "      <td>0.116784</td>\n",
       "      <td>0.111471</td>\n",
       "      <td>4.041440</td>\n",
       "      <td>0.021786</td>\n",
       "      <td>14.925261</td>\n",
       "      <td>47.943716</td>\n",
       "      <td>0.003020</td>\n",
       "      <td>0.159613</td>\n",
       "      <td>0.160436</td>\n",
       "      <td>1.199337</td>\n",
       "    </tr>\n",
       "    <tr>\n",
       "      <td>8</td>\n",
       "      <td>1.149311</td>\n",
       "      <td>0.119357</td>\n",
       "      <td>0.102446</td>\n",
       "      <td>4.175467</td>\n",
       "      <td>0.015694</td>\n",
       "      <td>17.195268</td>\n",
       "      <td>42.135241</td>\n",
       "      <td>0.002880</td>\n",
       "      <td>0.157424</td>\n",
       "      <td>0.165891</td>\n",
       "      <td>1.278921</td>\n",
       "    </tr>\n",
       "    <tr>\n",
       "      <td>9</td>\n",
       "      <td>0.983362</td>\n",
       "      <td>0.057619</td>\n",
       "      <td>0.082037</td>\n",
       "      <td>3.759255</td>\n",
       "      <td>0.007436</td>\n",
       "      <td>13.427584</td>\n",
       "      <td>19.824228</td>\n",
       "      <td>0.003118</td>\n",
       "      <td>0.082885</td>\n",
       "      <td>0.092628</td>\n",
       "      <td>1.013410</td>\n",
       "    </tr>\n",
       "  </tbody>\n",
       "</table>\n",
       "</div>"
      ],
      "text/plain": [
       "         fixed acidity  volatile acidity  citric acid  residual sugar  \\\n",
       "quality                                                                 \n",
       "3             1.747853          0.341913     0.173510        4.730721   \n",
       "4             1.264825          0.229311     0.182079        3.812136   \n",
       "5             1.259910          0.178591     0.160466        4.994311   \n",
       "6             1.291691          0.147025     0.142341        4.888507   \n",
       "7             1.372141          0.116784     0.111471        4.041440   \n",
       "8             1.149311          0.119357     0.102446        4.175467   \n",
       "9             0.983362          0.057619     0.082037        3.759255   \n",
       "\n",
       "         chlorides  free sulfur dioxide  total sulfur dioxide   density  \\\n",
       "quality                                                                   \n",
       "3         0.062014            59.990327            112.141762  0.002833   \n",
       "4         0.047153            18.865524             61.282714  0.002475   \n",
       "5         0.042007            18.565479             60.782859  0.002439   \n",
       "6         0.030844            16.835507             55.454390  0.003035   \n",
       "7         0.021786            14.925261             47.943716  0.003020   \n",
       "8         0.015694            17.195268             42.135241  0.002880   \n",
       "9         0.007436            13.427584             19.824228  0.003118   \n",
       "\n",
       "               pH  sulphates   alcohol  \n",
       "quality                                 \n",
       "3        0.213246   0.126994  1.106497  \n",
       "4        0.188390   0.164433  0.985923  \n",
       "5        0.157221   0.141680  0.814416  \n",
       "6        0.161038   0.146730  1.126491  \n",
       "7        0.159613   0.160436  1.199337  \n",
       "8        0.157424   0.165891  1.278921  \n",
       "9        0.082885   0.092628  1.013410  "
      ]
     },
     "execution_count": 10,
     "metadata": {},
     "output_type": "execute_result"
    }
   ],
   "source": [
    "df12"
   ]
  },
  {
   "cell_type": "code",
   "execution_count": 6,
   "metadata": {},
   "outputs": [],
   "source": [
    "A=pd.DataFrame(data.isnull().any(),columns=['values'])\n",
    "for i in A[A['values']==True].index:\n",
    "    data[i].fillna(np.mean(data[i]),inplace=True)"
   ]
  },
  {
   "cell_type": "markdown",
   "metadata": {},
   "source": [
    "# Feature_Engineering"
   ]
  },
  {
   "cell_type": "markdown",
   "metadata": {},
   "source": [
    "## ANOVA TEST"
   ]
  },
  {
   "cell_type": "code",
   "execution_count": 7,
   "metadata": {},
   "outputs": [
    {
     "name": "stdout",
     "output_type": "stream",
     "text": [
      "F-value of fixed acidity 8.027177925674534\n",
      "F-value of volatile acidity 96.90611237061283\n",
      "F-value of citric acid 9.365487747109961\n",
      "F-value of residual sugar 9.085818071482997\n",
      "F-value of chlorides 50.86266522352452\n",
      "F-value of free sulfur dioxide 14.939170402675266\n",
      "F-value of total sulfur dioxide 7.716088194433098\n",
      "F-value of density 136.95123576696437\n",
      "F-value of pH 2.010384727642274\n",
      "F-value of sulphates 4.375673292867339\n",
      "F-value of alcohol 320.59344780291025\n",
      "F-value of quality inf\n",
      "F-value of Num_Type 19.757360058159275\n"
     ]
    },
    {
     "name": "stderr",
     "output_type": "stream",
     "text": [
      "C:\\Users\\HAMCHTKOU\\AppData\\Local\\Continuum\\anaconda3\\lib\\site-packages\\scipy\\stats\\stats.py:3235: RuntimeWarning: divide by zero encountered in double_scalars\n",
      "  f = msb / msw\n"
     ]
    }
   ],
   "source": [
    "## AS our independent variable ( the one that we want to predict) s categorical we will use the ANOVA test \n",
    "## to express its correlation with the other variables.  \n",
    "\n",
    "from scipy import stats\n",
    "data['Num_Type']=pd.get_dummies(data['type']).iloc[:,1]\n",
    "list_values=data.columns\n",
    "list_values=list_values.drop('type','quality')\n",
    "for i in list_values:\n",
    "    F,p=stats.f_oneway(data[data['quality']==3].loc[:,i],\n",
    "                      data[data['quality']==4].loc[:,i],\n",
    "                      data[data['quality']==5].loc[:,i],\n",
    "                      data[data['quality']==6].loc[:,i],\n",
    "                      data[data['quality']==7].loc[:,i],\n",
    "                      data[data['quality']==8].loc[:,i],\n",
    "                      data[data['quality']==9].loc[:,i])\n",
    "    print(\"F-value of \"+i,format(F))"
   ]
  },
  {
   "cell_type": "code",
   "execution_count": 8,
   "metadata": {},
   "outputs": [],
   "source": [
    "from sklearn.preprocessing import MinMaxScaler\n",
    "from sklearn.decomposition import PCA \n",
    "from sklearn.model_selection import train_test_split \n",
    "data_=data.drop('type',axis=1)\n",
    "X=np.array(data_.loc[:,['volatile acidity','density','alcohol','chlorides']])\n",
    "y=np.array(data['quality'])\n",
    "#pca=PCA(n_components=4)\n",
    "#pca.fit(X)\n",
    "#X_reduct=pca.transform(X)\n",
    "#scaler=MinMaxScaler()\n",
    "#scaler.fit(X)\n",
    "#X_scaled=scaler.transform(X)\n",
    "X_train,X_test,y_train,y_test=train_test_split(X,y)"
   ]
  },
  {
   "cell_type": "markdown",
   "metadata": {},
   "source": [
    "# Prediction using   Random Forest Classifier"
   ]
  },
  {
   "cell_type": "code",
   "execution_count": 37,
   "metadata": {
    "scrolled": true
   },
   "outputs": [
    {
     "name": "stdout",
     "output_type": "stream",
     "text": [
      "0.5452307692307692\n"
     ]
    }
   ],
   "source": [
    "from sklearn.ensemble import RandomForestClassifier\n",
    "model_1=RandomForestClassifier(n_estimators=1)\n",
    "model_1.fit(X_train,y_train)\n",
    "y_predict_1=model_1.predict(X_test)\n",
    "print(accuracy_score(y_test,y_predict_1))"
   ]
  },
  {
   "cell_type": "markdown",
   "metadata": {},
   "source": [
    "# Prediction using SVC"
   ]
  },
  {
   "cell_type": "code",
   "execution_count": 38,
   "metadata": {},
   "outputs": [
    {
     "name": "stdout",
     "output_type": "stream",
     "text": [
      "{'C': 1, 'gamma': 10}\n",
      "0.5334564860426929\n"
     ]
    }
   ],
   "source": [
    "from sklearn.svm import SVC \n",
    "from sklearn.metrics import accuracy_score\n",
    "from sklearn.metrics import classification_report\n",
    "from sklearn.metrics import confusion_matrix\n",
    "from sklearn.model_selection import GridSearchCV\n",
    "params={'C':[0.001,0.01,0.1,1,10,100],'gamma':[0.01,0.1,1,10]}\n",
    "Clf=GridSearchCV(SVC(),params,cv=5, scoring='accuracy' )\n",
    "Clf.fit(X_train,y_train)\n",
    "print(Clf.best_params_)\n",
    "print(Clf.best_score_)"
   ]
  },
  {
   "cell_type": "code",
   "execution_count": 31,
   "metadata": {},
   "outputs": [
    {
     "name": "stdout",
     "output_type": "stream",
     "text": [
      "0.5738916256157636\n",
      "0.555076923076923\n"
     ]
    }
   ],
   "source": [
    "model=SVC(C=100,gamma=10)\n",
    "model.fit(X_train,y_train)\n",
    "y_predict_train=model.predict(X_train)\n",
    "y_predict_test=model.predict(X_test)\n",
    "print(accuracy_score(y_train,y_predict_train))\n",
    "print(accuracy_score(y_test,y_predict_test))"
   ]
  },
  {
   "cell_type": "markdown",
   "metadata": {},
   "source": [
    "## Prediction using Gradient Boosting classifier "
   ]
  },
  {
   "cell_type": "code",
   "execution_count": 32,
   "metadata": {},
   "outputs": [
    {
     "name": "stdout",
     "output_type": "stream",
     "text": [
      "{'n_estimators': 80}\n",
      "0.56876026272578\n"
     ]
    }
   ],
   "source": [
    "from sklearn.ensemble import GradientBoostingClassifier\n",
    "params={'n_estimators':range(20,81,10)}\n",
    "model=GradientBoostingClassifier(learning_rate=0.1,min_samples_split=50,min_samples_leaf=50,max_depth=8,max_features='sqrt',subsample=0.8)\n",
    "Clf=GridSearchCV(model,params,cv=5, scoring='accuracy' )\n",
    "Clf.fit(X_train,y_train)\n",
    "print(Clf.best_params_)\n",
    "print(Clf.best_score_)"
   ]
  },
  {
   "cell_type": "code",
   "execution_count": 33,
   "metadata": {},
   "outputs": [
    {
     "name": "stdout",
     "output_type": "stream",
     "text": [
      "{'max_depth': 8, 'min_samples_leaf': 40, 'min_samples_split': 70}\n",
      "0.5708128078817734\n"
     ]
    }
   ],
   "source": [
    "from sklearn.ensemble import GradientBoostingClassifier\n",
    "params={'max_depth':range(3,9,1),'min_samples_split':range(40,71,10),'min_samples_leaf':range(40,71,10)}\n",
    "model=GradientBoostingClassifier(learning_rate=0.1,max_features='sqrt',subsample=0.8,n_estimators=80)\n",
    "Clf=GridSearchCV(model,params,cv=5, scoring='accuracy' )\n",
    "Clf.fit(X_train,y_train)\n",
    "print(Clf.best_params_)\n",
    "print(Clf.best_score_)"
   ]
  },
  {
   "cell_type": "code",
   "execution_count": 35,
   "metadata": {},
   "outputs": [
    {
     "name": "stdout",
     "output_type": "stream",
     "text": [
      "0.7524630541871922\n",
      "0.5932307692307692\n"
     ]
    }
   ],
   "source": [
    "from sklearn.ensemble import GradientBoostingClassifier\n",
    "model=GradientBoostingClassifier(learning_rate=0.1,n_estimators=80,min_samples_split=70,min_samples_leaf=40,max_depth=8,max_features='sqrt',subsample=0.8)\n",
    "model.fit(X_train,y_train)\n",
    "y_predict_train=model.predict(X_train)\n",
    "y_predict_test=model.predict(X_test)\n",
    "print(accuracy_score(y_train,y_predict_train))\n",
    "print(accuracy_score(y_test,y_predict_test))"
   ]
  },
  {
   "cell_type": "code",
   "execution_count": 36,
   "metadata": {},
   "outputs": [
    {
     "name": "stdout",
     "output_type": "stream",
     "text": [
      "0.6369047619047619\n",
      "0.5753846153846154\n"
     ]
    }
   ],
   "source": [
    "from sklearn.ensemble import GradientBoostingClassifier\n",
    "model=GradientBoostingClassifier()\n",
    "model.fit(X_train,y_train)\n",
    "y_predict_train=model.predict(X_train)\n",
    "y_predict_test=model.predict(X_test)\n",
    "print(accuracy_score(y_train,y_predict_train))\n",
    "print(accuracy_score(y_test,y_predict_test))"
   ]
  },
  {
   "cell_type": "code",
   "execution_count": null,
   "metadata": {},
   "outputs": [],
   "source": []
  },
  {
   "cell_type": "code",
   "execution_count": null,
   "metadata": {},
   "outputs": [],
   "source": []
  },
  {
   "cell_type": "code",
   "execution_count": null,
   "metadata": {},
   "outputs": [],
   "source": []
  }
 ],
 "metadata": {
  "kernelspec": {
   "display_name": "Python 3",
   "language": "python",
   "name": "python3"
  },
  "language_info": {
   "codemirror_mode": {
    "name": "ipython",
    "version": 3
   },
   "file_extension": ".py",
   "mimetype": "text/x-python",
   "name": "python",
   "nbconvert_exporter": "python",
   "pygments_lexer": "ipython3",
   "version": "3.7.4"
  }
 },
 "nbformat": 4,
 "nbformat_minor": 2
}
