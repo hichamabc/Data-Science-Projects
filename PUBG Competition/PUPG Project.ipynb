{
 "cells": [
  {
   "cell_type": "markdown",
   "metadata": {},
   "source": [
    "# Exploratory data analysis\n",
    "### Here we present descriptions of the relations between some continuous variables and the output variable"
   ]
  },
  {
   "cell_type": "code",
   "execution_count": 1,
   "metadata": {},
   "outputs": [],
   "source": [
    "import pandas as pd \n",
    "import numpy as np \n",
    "import matplotlib.pyplot as plt "
   ]
  },
  {
   "cell_type": "code",
   "execution_count": 2,
   "metadata": {},
   "outputs": [],
   "source": [
    "data_train=pd.read_csv('train_V2.csv')"
   ]
  },
  {
   "cell_type": "code",
   "execution_count": 3,
   "metadata": {},
   "outputs": [],
   "source": [
    "def transition(x):\n",
    "    if x<=4:\n",
    "        return '0-4'\n",
    "    elif x<=10:\n",
    "        return'5-10'\n",
    "    elif x<=15:\n",
    "        return '11-15'\n",
    "    elif x<=20:\n",
    "        return '16-20'\n",
    "    elif x>=20:\n",
    "        return '20-'"
   ]
  },
  {
   "cell_type": "code",
   "execution_count": 4,
   "metadata": {},
   "outputs": [
    {
     "name": "stdout",
     "output_type": "stream",
     "text": [
      "               winPlacePerc                    \n",
      "                      count      mean       std\n",
      "boosts_grouped                                 \n",
      "0-4                 4184503  0.446616  0.296667\n",
      "11-15                  2853  0.951439  0.069561\n",
      "16-20                    68  0.929750  0.112724\n",
      "20-                      10  0.844290  0.299594\n",
      "5-10                 259531  0.889951  0.111560\n",
      "                winPlacePerc                    \n",
      "                       count      mean       std\n",
      "assists_grouped                                 \n",
      "0-4                  4442316  0.472423  0.307227\n",
      "11-15                     72  0.711972  0.262739\n",
      "16-20                      3  0.611100  0.346958\n",
      "20-                        2  0.750000  0.070711\n",
      "5-10                    4572  0.855781  0.231482\n",
      "                winPlacePerc                    \n",
      "                       count      mean       std\n",
      "revives_grouped                                 \n",
      "0-4                  4445956  0.472771  0.307399\n",
      "11-15                     65  0.603243  0.210559\n",
      "16-20                     24  0.595150  0.227178\n",
      "20-                        6  0.715483  0.188030\n",
      "5-10                     914  0.707049  0.244773\n"
     ]
    }
   ],
   "source": [
    "A=['boosts','assists','revives']\n",
    "for  i  in range(len(A)):\n",
    "    df=data_train.loc[:,[A[i],'winPlacePerc']]\n",
    "    df[A[i]+'_grouped']=pd.DataFrame(list(map(transition,df[A[i]])))\n",
    "    df_1=df.loc[:,[A[i]+'_grouped','winPlacePerc']].groupby(A[i]+'_grouped').agg(['count','mean','std'])\n",
    "    print(df_1)"
   ]
  },
  {
   "cell_type": "code",
   "execution_count": 5,
   "metadata": {},
   "outputs": [],
   "source": [
    "a=data_train['DBNOs'].unique()\n",
    "def trans_DBNOs(x):\n",
    "    if x<=10:\n",
    "        return '0-10'\n",
    "    elif x<=20:\n",
    "        return'11-20'\n",
    "    elif x<=30:\n",
    "        return '21-30'\n",
    "    elif x<=40:\n",
    "        return '31-40'\n",
    "    elif x<=50:\n",
    "        return '41-50'\n",
    "    elif x>50:\n",
    "            return '51-'"
   ]
  },
  {
   "cell_type": "code",
   "execution_count": 6,
   "metadata": {},
   "outputs": [
    {
     "data": {
      "text/html": [
       "<div>\n",
       "<style scoped>\n",
       "    .dataframe tbody tr th:only-of-type {\n",
       "        vertical-align: middle;\n",
       "    }\n",
       "\n",
       "    .dataframe tbody tr th {\n",
       "        vertical-align: top;\n",
       "    }\n",
       "\n",
       "    .dataframe thead tr th {\n",
       "        text-align: left;\n",
       "    }\n",
       "\n",
       "    .dataframe thead tr:last-of-type th {\n",
       "        text-align: right;\n",
       "    }\n",
       "</style>\n",
       "<table border=\"1\" class=\"dataframe\">\n",
       "  <thead>\n",
       "    <tr>\n",
       "      <th></th>\n",
       "      <th colspan=\"3\" halign=\"left\">winPlacePerc</th>\n",
       "    </tr>\n",
       "    <tr>\n",
       "      <th></th>\n",
       "      <th>count</th>\n",
       "      <th>mean</th>\n",
       "      <th>std</th>\n",
       "    </tr>\n",
       "    <tr>\n",
       "      <th>DBNOs_grouped</th>\n",
       "      <th></th>\n",
       "      <th></th>\n",
       "      <th></th>\n",
       "    </tr>\n",
       "  </thead>\n",
       "  <tbody>\n",
       "    <tr>\n",
       "      <td>0-10</td>\n",
       "      <td>4444847</td>\n",
       "      <td>0.472650</td>\n",
       "      <td>0.307334</td>\n",
       "    </tr>\n",
       "    <tr>\n",
       "      <td>11-20</td>\n",
       "      <td>1993</td>\n",
       "      <td>0.836532</td>\n",
       "      <td>0.234954</td>\n",
       "    </tr>\n",
       "    <tr>\n",
       "      <td>21-30</td>\n",
       "      <td>106</td>\n",
       "      <td>0.761905</td>\n",
       "      <td>0.256460</td>\n",
       "    </tr>\n",
       "    <tr>\n",
       "      <td>31-40</td>\n",
       "      <td>18</td>\n",
       "      <td>0.817256</td>\n",
       "      <td>0.226396</td>\n",
       "    </tr>\n",
       "    <tr>\n",
       "      <td>51-</td>\n",
       "      <td>1</td>\n",
       "      <td>1.000000</td>\n",
       "      <td>NaN</td>\n",
       "    </tr>\n",
       "  </tbody>\n",
       "</table>\n",
       "</div>"
      ],
      "text/plain": [
       "              winPlacePerc                    \n",
       "                     count      mean       std\n",
       "DBNOs_grouped                                 \n",
       "0-10               4444847  0.472650  0.307334\n",
       "11-20                 1993  0.836532  0.234954\n",
       "21-30                  106  0.761905  0.256460\n",
       "31-40                   18  0.817256  0.226396\n",
       "51-                      1  1.000000       NaN"
      ]
     },
     "execution_count": 6,
     "metadata": {},
     "output_type": "execute_result"
    }
   ],
   "source": [
    "df=data_train.loc[:,['DBNOs','winPlacePerc']]\n",
    "df['DBNOs_grouped']=pd.DataFrame(list(map(trans_DBNOs,df['DBNOs'])))\n",
    "df_1=df.loc[:,['DBNOs_grouped','winPlacePerc']].groupby('DBNOs_grouped').agg(['count','mean','std'])\n",
    "df_1"
   ]
  },
  {
   "cell_type": "markdown",
   "metadata": {},
   "source": [
    "### The rate of kills"
   ]
  },
  {
   "cell_type": "markdown",
   "metadata": {},
   "source": [
    "Here we will create a categorical (ordinal) by creating a ins for the \"kills\" variable, then we will calculate the rate of each bin in order to have an idea which category contain most of users."
   ]
  },
  {
   "cell_type": "code",
   "execution_count": 7,
   "metadata": {},
   "outputs": [],
   "source": [
    "def trans_DBNOs(x):\n",
    "    if x<=2:\n",
    "        return '0-2'\n",
    "    elif x<=4:\n",
    "        return '2-4'\n",
    "    elif x<=6:\n",
    "        return '4-6'\n",
    "    elif x<=8:\n",
    "        return '6-8'\n",
    "    elif x<=10:\n",
    "        return '8-10'\n",
    "    elif x<=20:\n",
    "        return'11-20'\n",
    "    elif x<=30:\n",
    "        return '21-30'\n",
    "    elif x<=40:\n",
    "        return '31-40'\n",
    "    elif x<=50:\n",
    "        return '41-50'\n",
    "    elif x>50:\n",
    "            return '51-'\n",
    "\n",
    "\n",
    "\n",
    "\n",
    "\n",
    "df=data_train.loc[:,['kills','winPlacePerc']]\n",
    "df['kills_grouped']=pd.DataFrame(list(map(trans_DBNOs,df['kills'])))\n",
    "df_1=df.loc[:,['kills_grouped','winPlacePerc']].groupby('kills_grouped').agg(['count','mean','std'])\n"
   ]
  },
  {
   "cell_type": "code",
   "execution_count": 8,
   "metadata": {},
   "outputs": [
    {
     "name": "stderr",
     "output_type": "stream",
     "text": [
      "C:\\Users\\HAMCHTKOU\\AppData\\Local\\Continuum\\anaconda3\\lib\\site-packages\\ipykernel_launcher.py:2: SettingWithCopyWarning: \n",
      "A value is trying to be set on a copy of a slice from a DataFrame.\n",
      "Try using .loc[row_indexer,col_indexer] = value instead\n",
      "\n",
      "See the caveats in the documentation: http://pandas.pydata.org/pandas-docs/stable/user_guide/indexing.html#returning-a-view-versus-a-copy\n",
      "  \n"
     ]
    },
    {
     "data": {
      "text/html": [
       "<div>\n",
       "<style scoped>\n",
       "    .dataframe tbody tr th:only-of-type {\n",
       "        vertical-align: middle;\n",
       "    }\n",
       "\n",
       "    .dataframe tbody tr th {\n",
       "        vertical-align: top;\n",
       "    }\n",
       "\n",
       "    .dataframe thead th {\n",
       "        text-align: right;\n",
       "    }\n",
       "</style>\n",
       "<table border=\"1\" class=\"dataframe\">\n",
       "  <thead>\n",
       "    <tr style=\"text-align: right;\">\n",
       "      <th></th>\n",
       "      <th>count</th>\n",
       "      <th>mean</th>\n",
       "      <th>std</th>\n",
       "      <th>Rate%</th>\n",
       "    </tr>\n",
       "    <tr>\n",
       "      <th>kills_grouped</th>\n",
       "      <th></th>\n",
       "      <th></th>\n",
       "      <th></th>\n",
       "      <th></th>\n",
       "    </tr>\n",
       "  </thead>\n",
       "  <tbody>\n",
       "    <tr>\n",
       "      <td>0-2</td>\n",
       "      <td>3930266</td>\n",
       "      <td>0.433982</td>\n",
       "      <td>0.295049</td>\n",
       "      <td>88.380862</td>\n",
       "    </tr>\n",
       "    <tr>\n",
       "      <td>11-20</td>\n",
       "      <td>7877</td>\n",
       "      <td>0.898940</td>\n",
       "      <td>0.184969</td>\n",
       "      <td>0.177132</td>\n",
       "    </tr>\n",
       "    <tr>\n",
       "      <td>2-4</td>\n",
       "      <td>356984</td>\n",
       "      <td>0.728586</td>\n",
       "      <td>0.237509</td>\n",
       "      <td>8.027587</td>\n",
       "    </tr>\n",
       "    <tr>\n",
       "      <td>21-30</td>\n",
       "      <td>361</td>\n",
       "      <td>0.829545</td>\n",
       "      <td>0.224693</td>\n",
       "      <td>0.008118</td>\n",
       "    </tr>\n",
       "    <tr>\n",
       "      <td>31-40</td>\n",
       "      <td>69</td>\n",
       "      <td>0.853707</td>\n",
       "      <td>0.186579</td>\n",
       "      <td>0.001552</td>\n",
       "    </tr>\n",
       "    <tr>\n",
       "      <td>4-6</td>\n",
       "      <td>104537</td>\n",
       "      <td>0.837343</td>\n",
       "      <td>0.184268</td>\n",
       "      <td>2.350749</td>\n",
       "    </tr>\n",
       "    <tr>\n",
       "      <td>41-50</td>\n",
       "      <td>20</td>\n",
       "      <td>0.905995</td>\n",
       "      <td>0.127399</td>\n",
       "      <td>0.000450</td>\n",
       "    </tr>\n",
       "    <tr>\n",
       "      <td>51-</td>\n",
       "      <td>13</td>\n",
       "      <td>0.965931</td>\n",
       "      <td>0.067904</td>\n",
       "      <td>0.000292</td>\n",
       "    </tr>\n",
       "    <tr>\n",
       "      <td>6-8</td>\n",
       "      <td>34595</td>\n",
       "      <td>0.888426</td>\n",
       "      <td>0.155526</td>\n",
       "      <td>0.777946</td>\n",
       "    </tr>\n",
       "    <tr>\n",
       "      <td>8-10</td>\n",
       "      <td>12243</td>\n",
       "      <td>0.908721</td>\n",
       "      <td>0.157380</td>\n",
       "      <td>0.275311</td>\n",
       "    </tr>\n",
       "  </tbody>\n",
       "</table>\n",
       "</div>"
      ],
      "text/plain": [
       "                 count      mean       std      Rate%\n",
       "kills_grouped                                        \n",
       "0-2            3930266  0.433982  0.295049  88.380862\n",
       "11-20             7877  0.898940  0.184969   0.177132\n",
       "2-4             356984  0.728586  0.237509   8.027587\n",
       "21-30              361  0.829545  0.224693   0.008118\n",
       "31-40               69  0.853707  0.186579   0.001552\n",
       "4-6             104537  0.837343  0.184268   2.350749\n",
       "41-50               20  0.905995  0.127399   0.000450\n",
       "51-                 13  0.965931  0.067904   0.000292\n",
       "6-8              34595  0.888426  0.155526   0.777946\n",
       "8-10             12243  0.908721  0.157380   0.275311"
      ]
     },
     "execution_count": 8,
     "metadata": {},
     "output_type": "execute_result"
    }
   ],
   "source": [
    "A=df_1['winPlacePerc']\n",
    "A['Rate%']=(A['count']/np.sum(A['count']))*100\n",
    "A"
   ]
  },
  {
   "cell_type": "markdown",
   "metadata": {},
   "source": [
    "## Distribution of kills variable"
   ]
  },
  {
   "cell_type": "code",
   "execution_count": 9,
   "metadata": {},
   "outputs": [
    {
     "data": {
      "text/plain": [
       "<matplotlib.axes._subplots.AxesSubplot at 0x15bace5c388>"
      ]
     },
     "execution_count": 9,
     "metadata": {},
     "output_type": "execute_result"
    },
    {
     "data": {
      "image/png": "[encoded data removed]",
      "text/plain": [
       "<Figure size 432x288 with 1 Axes>"
      ]
     },
     "metadata": {
      "needs_background": "light"
     },
     "output_type": "display_data"
    }
   ],
   "source": [
    "y=data_train['kills']\n",
    "\n",
    "import seaborn as sns \n",
    "fig,ax=plt.subplots()\n",
    "sns.distplot(y,bins=100,ax=ax)"
   ]
  },
  {
   "cell_type": "markdown",
   "metadata": {},
   "source": [
    "## Distrubution of the output variable"
   ]
  },
  {
   "cell_type": "code",
   "execution_count": 10,
   "metadata": {},
   "outputs": [
    {
     "name": "stderr",
     "output_type": "stream",
     "text": [
      "C:\\Users\\HAMCHTKOU\\AppData\\Local\\Continuum\\anaconda3\\lib\\site-packages\\numpy\\lib\\histograms.py:824: RuntimeWarning: invalid value encountered in greater_equal\n",
      "  keep = (tmp_a >= first_edge)\n",
      "C:\\Users\\HAMCHTKOU\\AppData\\Local\\Continuum\\anaconda3\\lib\\site-packages\\numpy\\lib\\histograms.py:825: RuntimeWarning: invalid value encountered in less_equal\n",
      "  keep &= (tmp_a <= last_edge)\n",
      "C:\\Users\\HAMCHTKOU\\AppData\\Local\\Continuum\\anaconda3\\lib\\site-packages\\statsmodels\\nonparametric\\kde.py:447: RuntimeWarning: invalid value encountered in greater\n",
      "  X = X[np.logical_and(X > clip[0], X < clip[1])] # won't work for two columns.\n",
      "C:\\Users\\HAMCHTKOU\\AppData\\Local\\Continuum\\anaconda3\\lib\\site-packages\\statsmodels\\nonparametric\\kde.py:447: RuntimeWarning: invalid value encountered in less\n",
      "  X = X[np.logical_and(X > clip[0], X < clip[1])] # won't work for two columns.\n"
     ]
    },
    {
     "data": {
      "text/plain": [
       "<matplotlib.axes._subplots.AxesSubplot at 0x15bad02b088>"
      ]
     },
     "execution_count": 10,
     "metadata": {},
     "output_type": "execute_result"
    },
    {
     "data": {
      "image/png": "[encoded data removed]",
      "text/plain": [
       "<Figure size 432x288 with 1 Axes>"
      ]
     },
     "metadata": {
      "needs_background": "light"
     },
     "output_type": "display_data"
    }
   ],
   "source": [
    "y=data_train['winPlacePerc']\n",
    "fig,ax=plt.subplots()\n",
    "sns.distplot(y,bins=50,ax=ax,color='green')"
   ]
  },
  {
   "cell_type": "code",
   "execution_count": 11,
   "metadata": {},
   "outputs": [
    {
     "data": {
      "text/plain": [
       "Text(0, 0.5, 'The count')"
      ]
     },
     "execution_count": 11,
     "metadata": {},
     "output_type": "execute_result"
    },
    {
     "data": {
      "image/png": "[encoded data removed]",
      "text/plain": [
       "<Figure size 576x396 with 1 Axes>"
      ]
     },
     "metadata": {},
     "output_type": "display_data"
    }
   ],
   "source": [
    "plt.style.use('seaborn')\n",
    "bins=[0,0.2,0.4,0.6,0.8,1]\n",
    "plt.hist(df['winPlacePerc'],bins=bins,edgecolor='black')\n",
    "plt.title('Scores')\n",
    "plt.xlabel('Scores')\n",
    "plt.ylabel('The count')"
   ]
  },
  {
   "cell_type": "markdown",
   "metadata": {},
   "source": [
    "## Match_Type vs WinPlacePrc"
   ]
  },
  {
   "cell_type": "code",
   "execution_count": 12,
   "metadata": {},
   "outputs": [],
   "source": [
    "A=pd.DataFrame(data_train.loc[:,['matchType','winPlacePerc']])"
   ]
  },
  {
   "cell_type": "code",
   "execution_count": 13,
   "metadata": {},
   "outputs": [
    {
     "data": {
      "text/html": [
       "<div>\n",
       "<style scoped>\n",
       "    .dataframe tbody tr th:only-of-type {\n",
       "        vertical-align: middle;\n",
       "    }\n",
       "\n",
       "    .dataframe tbody tr th {\n",
       "        vertical-align: top;\n",
       "    }\n",
       "\n",
       "    .dataframe thead th {\n",
       "        text-align: right;\n",
       "    }\n",
       "</style>\n",
       "<table border=\"1\" class=\"dataframe\">\n",
       "  <thead>\n",
       "    <tr style=\"text-align: right;\">\n",
       "      <th></th>\n",
       "      <th>winPlacePerc</th>\n",
       "    </tr>\n",
       "    <tr>\n",
       "      <th>matchType</th>\n",
       "      <th></th>\n",
       "    </tr>\n",
       "  </thead>\n",
       "  <tbody>\n",
       "    <tr>\n",
       "      <td>normal-duo</td>\n",
       "      <td>199</td>\n",
       "    </tr>\n",
       "    <tr>\n",
       "      <td>normal-solo</td>\n",
       "      <td>326</td>\n",
       "    </tr>\n",
       "    <tr>\n",
       "      <td>crashtpp</td>\n",
       "      <td>371</td>\n",
       "    </tr>\n",
       "    <tr>\n",
       "      <td>normal-squad</td>\n",
       "      <td>516</td>\n",
       "    </tr>\n",
       "    <tr>\n",
       "      <td>flarefpp</td>\n",
       "      <td>718</td>\n",
       "    </tr>\n",
       "    <tr>\n",
       "      <td>normal-solo-fpp</td>\n",
       "      <td>1682</td>\n",
       "    </tr>\n",
       "    <tr>\n",
       "      <td>flaretpp</td>\n",
       "      <td>2505</td>\n",
       "    </tr>\n",
       "    <tr>\n",
       "      <td>normal-duo-fpp</td>\n",
       "      <td>5489</td>\n",
       "    </tr>\n",
       "    <tr>\n",
       "      <td>crashfpp</td>\n",
       "      <td>6287</td>\n",
       "    </tr>\n",
       "    <tr>\n",
       "      <td>normal-squad-fpp</td>\n",
       "      <td>17174</td>\n",
       "    </tr>\n",
       "    <tr>\n",
       "      <td>solo</td>\n",
       "      <td>181943</td>\n",
       "    </tr>\n",
       "    <tr>\n",
       "      <td>duo</td>\n",
       "      <td>313591</td>\n",
       "    </tr>\n",
       "    <tr>\n",
       "      <td>solo-fpp</td>\n",
       "      <td>536761</td>\n",
       "    </tr>\n",
       "    <tr>\n",
       "      <td>squad</td>\n",
       "      <td>626526</td>\n",
       "    </tr>\n",
       "    <tr>\n",
       "      <td>duo-fpp</td>\n",
       "      <td>996691</td>\n",
       "    </tr>\n",
       "    <tr>\n",
       "      <td>squad-fpp</td>\n",
       "      <td>1756186</td>\n",
       "    </tr>\n",
       "  </tbody>\n",
       "</table>\n",
       "</div>"
      ],
      "text/plain": [
       "                  winPlacePerc\n",
       "matchType                     \n",
       "normal-duo                 199\n",
       "normal-solo                326\n",
       "crashtpp                   371\n",
       "normal-squad               516\n",
       "flarefpp                   718\n",
       "normal-solo-fpp           1682\n",
       "flaretpp                  2505\n",
       "normal-duo-fpp            5489\n",
       "crashfpp                  6287\n",
       "normal-squad-fpp         17174\n",
       "solo                    181943\n",
       "duo                     313591\n",
       "solo-fpp                536761\n",
       "squad                   626526\n",
       "duo-fpp                 996691\n",
       "squad-fpp              1756186"
      ]
     },
     "execution_count": 13,
     "metadata": {},
     "output_type": "execute_result"
    }
   ],
   "source": [
    "A_grouped=A.groupby('matchType').count()\n",
    "A_grouped.sort_values('winPlacePerc')"
   ]
  },
  {
   "cell_type": "code",
   "execution_count": 14,
   "metadata": {},
   "outputs": [
    {
     "data": {
      "image/png": "[encoded data removed]",
      "text/plain": [
       "<Figure size 576x396 with 1 Axes>"
      ]
     },
     "metadata": {},
     "output_type": "display_data"
    }
   ],
   "source": [
    "plt.style.use('fivethirtyeight')\n",
    "Match_Type=A_grouped.index\n",
    "x_indexes=np.arange(len(Match_Type))\n",
    "score=A_grouped['winPlacePerc']\n",
    "plt.bar(x_indexes,score,color='r',log=True)\n",
    "plt.xticks(ticks=x_indexes,labels=Match_Type,rotation=30)\n",
    "plt.title(\"Count of users by each match type\")\n",
    "plt.xlabel('Match Type')\n",
    "plt.ylabel('Count of users')\n",
    "plt.tight_layout()"
   ]
  },
  {
   "cell_type": "markdown",
   "metadata": {},
   "source": [
    "## The rate of good players by each match type "
   ]
  },
  {
   "cell_type": "code",
   "execution_count": 15,
   "metadata": {},
   "outputs": [],
   "source": [
    "df=data_train.loc[:,['matchType','winPlacePerc']]\n",
    "B=df[df['winPlacePerc']>=0.8]\n",
    "B_grouped=B.groupby('matchType').count()"
   ]
  },
  {
   "cell_type": "code",
   "execution_count": 16,
   "metadata": {},
   "outputs": [
    {
     "data": {
      "text/html": [
       "<div>\n",
       "<style scoped>\n",
       "    .dataframe tbody tr th:only-of-type {\n",
       "        vertical-align: middle;\n",
       "    }\n",
       "\n",
       "    .dataframe tbody tr th {\n",
       "        vertical-align: top;\n",
       "    }\n",
       "\n",
       "    .dataframe thead th {\n",
       "        text-align: right;\n",
       "    }\n",
       "</style>\n",
       "<table border=\"1\" class=\"dataframe\">\n",
       "  <thead>\n",
       "    <tr style=\"text-align: right;\">\n",
       "      <th></th>\n",
       "      <th>key_0</th>\n",
       "      <th>winPlacePerc_x</th>\n",
       "      <th>winPlacePerc_y</th>\n",
       "      <th>rate</th>\n",
       "    </tr>\n",
       "  </thead>\n",
       "  <tbody>\n",
       "    <tr>\n",
       "      <td>5</td>\n",
       "      <td>flaretpp</td>\n",
       "      <td>2505</td>\n",
       "      <td>464</td>\n",
       "      <td>0.185230</td>\n",
       "    </tr>\n",
       "    <tr>\n",
       "      <td>14</td>\n",
       "      <td>squad</td>\n",
       "      <td>626526</td>\n",
       "      <td>123725</td>\n",
       "      <td>0.197478</td>\n",
       "    </tr>\n",
       "    <tr>\n",
       "      <td>4</td>\n",
       "      <td>flarefpp</td>\n",
       "      <td>718</td>\n",
       "      <td>142</td>\n",
       "      <td>0.197772</td>\n",
       "    </tr>\n",
       "    <tr>\n",
       "      <td>12</td>\n",
       "      <td>solo</td>\n",
       "      <td>181943</td>\n",
       "      <td>36181</td>\n",
       "      <td>0.198859</td>\n",
       "    </tr>\n",
       "    <tr>\n",
       "      <td>0</td>\n",
       "      <td>crashfpp</td>\n",
       "      <td>6287</td>\n",
       "      <td>1261</td>\n",
       "      <td>0.200573</td>\n",
       "    </tr>\n",
       "    <tr>\n",
       "      <td>15</td>\n",
       "      <td>squad-fpp</td>\n",
       "      <td>1756186</td>\n",
       "      <td>353073</td>\n",
       "      <td>0.201045</td>\n",
       "    </tr>\n",
       "    <tr>\n",
       "      <td>13</td>\n",
       "      <td>solo-fpp</td>\n",
       "      <td>536761</td>\n",
       "      <td>108247</td>\n",
       "      <td>0.201667</td>\n",
       "    </tr>\n",
       "    <tr>\n",
       "      <td>3</td>\n",
       "      <td>duo-fpp</td>\n",
       "      <td>996691</td>\n",
       "      <td>203078</td>\n",
       "      <td>0.203752</td>\n",
       "    </tr>\n",
       "    <tr>\n",
       "      <td>2</td>\n",
       "      <td>duo</td>\n",
       "      <td>313591</td>\n",
       "      <td>63952</td>\n",
       "      <td>0.203934</td>\n",
       "    </tr>\n",
       "    <tr>\n",
       "      <td>1</td>\n",
       "      <td>crashtpp</td>\n",
       "      <td>371</td>\n",
       "      <td>77</td>\n",
       "      <td>0.207547</td>\n",
       "    </tr>\n",
       "    <tr>\n",
       "      <td>7</td>\n",
       "      <td>normal-duo-fpp</td>\n",
       "      <td>5489</td>\n",
       "      <td>1294</td>\n",
       "      <td>0.235744</td>\n",
       "    </tr>\n",
       "    <tr>\n",
       "      <td>6</td>\n",
       "      <td>normal-duo</td>\n",
       "      <td>199</td>\n",
       "      <td>50</td>\n",
       "      <td>0.251256</td>\n",
       "    </tr>\n",
       "    <tr>\n",
       "      <td>11</td>\n",
       "      <td>normal-squad-fpp</td>\n",
       "      <td>17174</td>\n",
       "      <td>4414</td>\n",
       "      <td>0.257016</td>\n",
       "    </tr>\n",
       "    <tr>\n",
       "      <td>10</td>\n",
       "      <td>normal-squad</td>\n",
       "      <td>516</td>\n",
       "      <td>136</td>\n",
       "      <td>0.263566</td>\n",
       "    </tr>\n",
       "    <tr>\n",
       "      <td>9</td>\n",
       "      <td>normal-solo-fpp</td>\n",
       "      <td>1682</td>\n",
       "      <td>473</td>\n",
       "      <td>0.281213</td>\n",
       "    </tr>\n",
       "    <tr>\n",
       "      <td>8</td>\n",
       "      <td>normal-solo</td>\n",
       "      <td>326</td>\n",
       "      <td>104</td>\n",
       "      <td>0.319018</td>\n",
       "    </tr>\n",
       "  </tbody>\n",
       "</table>\n",
       "</div>"
      ],
      "text/plain": [
       "               key_0  winPlacePerc_x  winPlacePerc_y      rate\n",
       "5           flaretpp            2505             464  0.185230\n",
       "14             squad          626526          123725  0.197478\n",
       "4           flarefpp             718             142  0.197772\n",
       "12              solo          181943           36181  0.198859\n",
       "0           crashfpp            6287            1261  0.200573\n",
       "15         squad-fpp         1756186          353073  0.201045\n",
       "13          solo-fpp          536761          108247  0.201667\n",
       "3            duo-fpp          996691          203078  0.203752\n",
       "2                duo          313591           63952  0.203934\n",
       "1           crashtpp             371              77  0.207547\n",
       "7     normal-duo-fpp            5489            1294  0.235744\n",
       "6         normal-duo             199              50  0.251256\n",
       "11  normal-squad-fpp           17174            4414  0.257016\n",
       "10      normal-squad             516             136  0.263566\n",
       "9    normal-solo-fpp            1682             473  0.281213\n",
       "8        normal-solo             326             104  0.319018"
      ]
     },
     "execution_count": 16,
     "metadata": {},
     "output_type": "execute_result"
    }
   ],
   "source": [
    "A_merged=pd.merge(A_grouped,B_grouped, on=A_grouped.index)\n",
    "A_merged['rate']=A_merged['winPlacePerc_y']/A_merged['winPlacePerc_x']\n",
    "A_merged.sort_values('rate')"
   ]
  },
  {
   "cell_type": "markdown",
   "metadata": {},
   "source": [
    "## Feature Engineering"
   ]
  },
  {
   "cell_type": "markdown",
   "metadata": {},
   "source": [
    "To choose the features for ou model we will rely on the correlation (>0.5)"
   ]
  },
  {
   "cell_type": "code",
   "execution_count": 17,
   "metadata": {},
   "outputs": [
    {
     "data": {
      "text/html": [
       "<div>\n",
       "<style scoped>\n",
       "    .dataframe tbody tr th:only-of-type {\n",
       "        vertical-align: middle;\n",
       "    }\n",
       "\n",
       "    .dataframe tbody tr th {\n",
       "        vertical-align: top;\n",
       "    }\n",
       "\n",
       "    .dataframe thead th {\n",
       "        text-align: right;\n",
       "    }\n",
       "</style>\n",
       "<table border=\"1\" class=\"dataframe\">\n",
       "  <thead>\n",
       "    <tr style=\"text-align: right;\">\n",
       "      <th></th>\n",
       "      <th>winPlacePerc</th>\n",
       "    </tr>\n",
       "  </thead>\n",
       "  <tbody>\n",
       "    <tr>\n",
       "      <td>boosts</td>\n",
       "      <td>0.634234</td>\n",
       "    </tr>\n",
       "    <tr>\n",
       "      <td>killPlace</td>\n",
       "      <td>-0.719069</td>\n",
       "    </tr>\n",
       "    <tr>\n",
       "      <td>walkDistance</td>\n",
       "      <td>0.810888</td>\n",
       "    </tr>\n",
       "    <tr>\n",
       "      <td>weaponsAcquired</td>\n",
       "      <td>0.583806</td>\n",
       "    </tr>\n",
       "    <tr>\n",
       "      <td>winPlacePerc</td>\n",
       "      <td>1.000000</td>\n",
       "    </tr>\n",
       "  </tbody>\n",
       "</table>\n",
       "</div>"
      ],
      "text/plain": [
       "                 winPlacePerc\n",
       "boosts               0.634234\n",
       "killPlace           -0.719069\n",
       "walkDistance         0.810888\n",
       "weaponsAcquired      0.583806\n",
       "winPlacePerc         1.000000"
      ]
     },
     "execution_count": 17,
     "metadata": {},
     "output_type": "execute_result"
    }
   ],
   "source": [
    "a=data_train.columns\n",
    "a=list(a)\n",
    "a.remove('winPlacePerc')\n",
    "data=data_train.loc[:,a]\n",
    "A=data_train.corr()['winPlacePerc']\n",
    "A=pd.DataFrame(A)\n",
    "A[np.abs(A['winPlacePerc'])>0.5]"
   ]
  },
  {
   "cell_type": "code",
   "execution_count": 18,
   "metadata": {},
   "outputs": [],
   "source": [
    "A=data_train.loc[:,['groupId','matchId','walkDistance']]\n",
    "A=A.groupby(['groupId','matchId']).mean()\n",
    "A=A.reset_index()\n",
    "data_train=data_train.drop('walkDistance',axis=1)\n",
    "B=pd.merge(A,data_train,on=['groupId','matchId'])"
   ]
  },
  {
   "cell_type": "code",
   "execution_count": 19,
   "metadata": {},
   "outputs": [],
   "source": [
    "C=B.loc[:,['groupId','matchId','boosts']]\n",
    "C=C.groupby(['groupId','matchId']).mean()\n",
    "C=C.reset_index()\n",
    "B=B.drop('boosts',axis=1)\n",
    "D=pd.merge(C,B,on=['groupId','matchId'])"
   ]
  },
  {
   "cell_type": "code",
   "execution_count": 20,
   "metadata": {},
   "outputs": [],
   "source": [
    "E=D.loc[:,['groupId','matchId','killPlace']]\n",
    "E=E.groupby(['groupId','matchId']).mean()\n",
    "E=E.reset_index()\n",
    "D=D.drop('killPlace',axis=1)\n",
    "F=pd.merge(E,D,on=['groupId','matchId'])"
   ]
  },
  {
   "cell_type": "code",
   "execution_count": 21,
   "metadata": {},
   "outputs": [],
   "source": [
    "G=F.loc[:,['groupId','matchId','weaponsAcquired']]\n",
    "G=G.groupby(['groupId','matchId']).mean()\n",
    "G=G.reset_index()\n",
    "F=F.drop('weaponsAcquired',axis=1)\n",
    "H=pd.merge(G,F,on=['groupId','matchId'])"
   ]
  },
  {
   "cell_type": "code",
   "execution_count": 22,
   "metadata": {},
   "outputs": [
    {
     "data": {
      "text/html": [
       "<div>\n",
       "<style scoped>\n",
       "    .dataframe tbody tr th:only-of-type {\n",
       "        vertical-align: middle;\n",
       "    }\n",
       "\n",
       "    .dataframe tbody tr th {\n",
       "        vertical-align: top;\n",
       "    }\n",
       "\n",
       "    .dataframe thead th {\n",
       "        text-align: right;\n",
       "    }\n",
       "</style>\n",
       "<table border=\"1\" class=\"dataframe\">\n",
       "  <thead>\n",
       "    <tr style=\"text-align: right;\">\n",
       "      <th></th>\n",
       "      <th>winPlacePerc</th>\n",
       "    </tr>\n",
       "  </thead>\n",
       "  <tbody>\n",
       "    <tr>\n",
       "      <td>weaponsAcquired</td>\n",
       "      <td>0.675383</td>\n",
       "    </tr>\n",
       "    <tr>\n",
       "      <td>killPlace</td>\n",
       "      <td>-0.820770</td>\n",
       "    </tr>\n",
       "    <tr>\n",
       "      <td>boosts</td>\n",
       "      <td>0.716078</td>\n",
       "    </tr>\n",
       "    <tr>\n",
       "      <td>walkDistance</td>\n",
       "      <td>0.841037</td>\n",
       "    </tr>\n",
       "    <tr>\n",
       "      <td>winPlacePerc</td>\n",
       "      <td>1.000000</td>\n",
       "    </tr>\n",
       "  </tbody>\n",
       "</table>\n",
       "</div>"
      ],
      "text/plain": [
       "                 winPlacePerc\n",
       "weaponsAcquired      0.675383\n",
       "killPlace           -0.820770\n",
       "boosts               0.716078\n",
       "walkDistance         0.841037\n",
       "winPlacePerc         1.000000"
      ]
     },
     "execution_count": 22,
     "metadata": {},
     "output_type": "execute_result"
    }
   ],
   "source": [
    "a=H.columns\n",
    "a=list(a)\n",
    "a.remove('winPlacePerc')\n",
    "data=H.loc[:,a]\n",
    "A=H.corr()['winPlacePerc']\n",
    "A=pd.DataFrame(A)\n",
    "A[np.abs(A['winPlacePerc'])>0.5]"
   ]
  },
  {
   "cell_type": "markdown",
   "metadata": {},
   "source": [
    "### Encoding categorical variables( matchId and groupId)"
   ]
  },
  {
   "cell_type": "code",
   "execution_count": 32,
   "metadata": {},
   "outputs": [],
   "source": [
    "from sklearn.feature_extraction import FeatureHasher\n",
    "h=FeatureHasher(n_features=20,input_type='string')\n",
    "f=h.transform(H['matchId'])"
   ]
  },
  {
   "cell_type": "code",
   "execution_count": 33,
   "metadata": {},
   "outputs": [
    {
     "data": {
      "text/plain": [
       "array([[ 5.,  1.,  0., ...,  0.,  0.,  1.],\n",
       "       [ 5.,  1.,  0., ...,  0.,  0.,  1.],\n",
       "       [ 5.,  1.,  0., ...,  0.,  0.,  1.],\n",
       "       ...,\n",
       "       [ 2.,  2.,  0., ..., -3.,  0.,  4.],\n",
       "       [ 2.,  2.,  0., ..., -3.,  0.,  4.],\n",
       "       [ 5., -1.,  0., ..., -1.,  0.,  1.]])"
      ]
     },
     "execution_count": 33,
     "metadata": {},
     "output_type": "execute_result"
    }
   ],
   "source": [
    "import numpy as np\n",
    "f.toarray()"
   ]
  },
  {
   "cell_type": "code",
   "execution_count": 34,
   "metadata": {},
   "outputs": [],
   "source": [
    "g=h.transform(H['groupId'])"
   ]
  },
  {
   "cell_type": "code",
   "execution_count": 35,
   "metadata": {},
   "outputs": [],
   "source": [
    "x=np.array(H.loc[:,['weaponsAcquired','killPlace','boosts','walkDistance']])"
   ]
  },
  {
   "cell_type": "code",
   "execution_count": 36,
   "metadata": {},
   "outputs": [],
   "source": [
    "gg=g.toarray()\n",
    "ff=f.toarray()"
   ]
  },
  {
   "cell_type": "code",
   "execution_count": 54,
   "metadata": {},
   "outputs": [],
   "source": [
    "X=np.concatenate((gg,ff,x),axis=1)"
   ]
  },
  {
   "cell_type": "code",
   "execution_count": 55,
   "metadata": {},
   "outputs": [
    {
     "data": {
      "text/plain": [
       "GradientBoostingRegressor(alpha=0.9, criterion='friedman_mse', init=None,\n",
       "                          learning_rate=0.1, loss='ls', max_depth=7,\n",
       "                          max_features=None, max_leaf_nodes=None,\n",
       "                          min_impurity_decrease=0.0, min_impurity_split=None,\n",
       "                          min_samples_leaf=1, min_samples_split=2,\n",
       "                          min_weight_fraction_leaf=0.0, n_estimators=50,\n",
       "                          n_iter_no_change=None, presort='auto',\n",
       "                          random_state=None, subsample=1.0, tol=0.0001,\n",
       "                          validation_fraction=0.1, verbose=0, warm_start=False)"
      ]
     },
     "execution_count": 55,
     "metadata": {},
     "output_type": "execute_result"
    }
   ],
   "source": [
    "from sklearn.model_selection import train_test_split\n",
    "from sklearn.model_selection import train_test_split\n",
    "from sklearn.ensemble import GradientBoostingRegressor\n",
    "from sklearn.decomposition import PCA\n",
    "y=H['winPlacePerc']\n",
    "\n",
    "X_train,X_test,y_train,y_test=train_test_split(x,y)\n",
    "y_train=pd.DataFrame(y_train)\n",
    "y_train.fillna(np.mean(y_train),inplace=True)\n",
    "y_train=np.array(y_train)\n",
    "y_train=y_train.reshape((3335224,))\n",
    "\n",
    "y_test=pd.DataFrame(y_test)\n",
    "y_test.fillna(np.mean(y_test),inplace=True)\n",
    "y_test=np.array(y_test)\n",
    "y_test=y_test.reshape((1111742,))\n",
    "\n",
    "model=GradientBoostingRegressor(n_estimators=50,max_depth=7)\n",
    "model.fit(X_train,y_train)\n",
    "\n",
    "\n"
   ]
  },
  {
   "cell_type": "code",
   "execution_count": 56,
   "metadata": {},
   "outputs": [
    {
     "name": "stdout",
     "output_type": "stream",
     "text": [
      "0.07496882751933184\n",
      "0.07516330894944888\n"
     ]
    }
   ],
   "source": [
    "y_predict_train=model.predict(X_train)\n",
    "y_predict_test=model.predict(X_test)\n",
    "print(MAE(y_train,y_predict_train))\n",
    "print(MAE(y_test,y_predict_test))\n"
   ]
  },
  {
   "cell_type": "code",
   "execution_count": null,
   "metadata": {},
   "outputs": [],
   "source": []
  },
  {
   "cell_type": "code",
   "execution_count": null,
   "metadata": {},
   "outputs": [],
   "source": []
  }
 ],
 "metadata": {
  "kernelspec": {
   "display_name": "Python 3",
   "language": "python",
   "name": "python3"
  },
  "language_info": {
   "codemirror_mode": {
    "name": "ipython",
    "version": 3
   },
   "file_extension": ".py",
   "mimetype": "text/x-python",
   "name": "python",
   "nbconvert_exporter": "python",
   "pygments_lexer": "ipython3",
   "version": "3.7.4"
  }
 },
 "nbformat": 4,
 "nbformat_minor": 2
}
